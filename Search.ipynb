{
 "cells": [
  {
   "cell_type": "markdown",
   "id": "d0efa0b3-3ddc-4f94-9d63-f19ff9df8553",
   "metadata": {},
   "source": [
    "# Book Search\n",
    "\n",
    "In this notebook, we import our [data from Goodreads](https://sites.google.com/eng.ucsd.edu/ucsdbookgraph/home) and stream it, line by line, extracting just the columns we're interested in. We then process the titles of all the books in our dataset, and implement a matrix of [TF-IDF features](https://scikit-learn.org/stable/modules/generated/sklearn.feature_extraction.text.TfidfVectorizer.html). With this matrix, we can then query our dataset for a given book, and see the top 5 results. Finally, we manually add the `book_id` of our queried book to our list, `liked_books`, which we will then use in the Recommendation notebook.\n",
    "\n",
    "# Import Libraries & Tools"
   ]
  },
  {
   "cell_type": "code",
   "execution_count": 1,
   "id": "c63a71ee-d732-4b62-9c8c-e2b1fe73bae0",
   "metadata": {
    "execution": {
     "iopub.execute_input": "2022-04-06T01:33:17.651236Z",
     "iopub.status.busy": "2022-04-06T01:33:17.651236Z",
     "iopub.status.idle": "2022-04-06T01:33:17.787870Z",
     "shell.execute_reply": "2022-04-06T01:33:17.787870Z",
     "shell.execute_reply.started": "2022-04-06T01:33:17.651236Z"
    },
    "tags": []
   },
   "outputs": [],
   "source": [
    "import pandas as pd\n",
    "import numpy as np\n",
    "import gzip\n",
    "import json\n",
    "import re\n",
    "\n",
    "from sklearn.feature_extraction.text import TfidfVectorizer\n",
    "from sklearn.metrics.pairwise import cosine_similarity"
   ]
  },
  {
   "cell_type": "code",
   "execution_count": 2,
   "id": "0d06d347-d397-45af-98d0-a5318dd17728",
   "metadata": {
    "execution": {
     "iopub.execute_input": "2022-04-06T01:33:17.788867Z",
     "iopub.status.busy": "2022-04-06T01:33:17.788867Z",
     "iopub.status.idle": "2022-04-06T01:33:17.803831Z",
     "shell.execute_reply": "2022-04-06T01:33:17.803831Z",
     "shell.execute_reply.started": "2022-04-06T01:33:17.788867Z"
    },
    "tags": []
   },
   "outputs": [
    {
     "data": {
      "text/plain": [
       "{'isbn': '0312853122',\n",
       " 'text_reviews_count': '1',\n",
       " 'series': [],\n",
       " 'country_code': 'US',\n",
       " 'language_code': '',\n",
       " 'popular_shelves': [{'count': '3', 'name': 'to-read'},\n",
       "  {'count': '1', 'name': 'p'},\n",
       "  {'count': '1', 'name': 'collection'},\n",
       "  {'count': '1', 'name': 'w-c-fields'},\n",
       "  {'count': '1', 'name': 'biography'}],\n",
       " 'asin': '',\n",
       " 'is_ebook': 'false',\n",
       " 'average_rating': '4.00',\n",
       " 'kindle_asin': '',\n",
       " 'similar_books': [],\n",
       " 'description': '',\n",
       " 'format': 'Paperback',\n",
       " 'link': 'https://www.goodreads.com/book/show/5333265-w-c-fields',\n",
       " 'authors': [{'author_id': '604031', 'role': ''}],\n",
       " 'publisher': \"St. Martin's Press\",\n",
       " 'num_pages': '256',\n",
       " 'publication_day': '1',\n",
       " 'isbn13': '9780312853129',\n",
       " 'publication_month': '9',\n",
       " 'edition_information': '',\n",
       " 'publication_year': '1984',\n",
       " 'url': 'https://www.goodreads.com/book/show/5333265-w-c-fields',\n",
       " 'image_url': 'https://images.gr-assets.com/books/1310220028m/5333265.jpg',\n",
       " 'book_id': '5333265',\n",
       " 'ratings_count': '3',\n",
       " 'work_id': '5400751',\n",
       " 'title': 'W.C. Fields: A Life on Film',\n",
       " 'title_without_series': 'W.C. Fields: A Life on Film'}"
      ]
     },
     "execution_count": 2,
     "metadata": {},
     "output_type": "execute_result"
    }
   ],
   "source": [
    "# read a single line from the .json file\n",
    "with gzip.open('goodreads_books.json.gz', 'r') as f:\n",
    "    line = f.readline()\n",
    "\n",
    "#example of information in our .json.gz file\n",
    "json.loads(line)"
   ]
  },
  {
   "cell_type": "code",
   "execution_count": 3,
   "id": "f462aad9-3848-4ed4-9259-f266f470b00f",
   "metadata": {
    "execution": {
     "iopub.execute_input": "2022-04-06T01:33:17.804825Z",
     "iopub.status.busy": "2022-04-06T01:33:17.804825Z",
     "iopub.status.idle": "2022-04-06T01:35:09.316125Z",
     "shell.execute_reply": "2022-04-06T01:35:09.316125Z",
     "shell.execute_reply.started": "2022-04-06T01:33:17.804825Z"
    },
    "tags": []
   },
   "outputs": [
    {
     "data": {
      "text/html": [
       "<div>\n",
       "<style scoped>\n",
       "    .dataframe tbody tr th:only-of-type {\n",
       "        vertical-align: middle;\n",
       "    }\n",
       "\n",
       "    .dataframe tbody tr th {\n",
       "        vertical-align: top;\n",
       "    }\n",
       "\n",
       "    .dataframe thead th {\n",
       "        text-align: right;\n",
       "    }\n",
       "</style>\n",
       "<table border=\"1\" class=\"dataframe\">\n",
       "  <thead>\n",
       "    <tr style=\"text-align: right;\">\n",
       "      <th></th>\n",
       "      <th>book_id</th>\n",
       "      <th>title</th>\n",
       "      <th>ratings</th>\n",
       "      <th>url</th>\n",
       "      <th>cover_image</th>\n",
       "      <th>mod_title</th>\n",
       "    </tr>\n",
       "  </thead>\n",
       "  <tbody>\n",
       "    <tr>\n",
       "      <th>0</th>\n",
       "      <td>7327624</td>\n",
       "      <td>The Unschooled Wizard (Sun Wolf and Starhawk, ...</td>\n",
       "      <td>140</td>\n",
       "      <td>https://www.goodreads.com/book/show/7327624-th...</td>\n",
       "      <td>https://images.gr-assets.com/books/1304100136m...</td>\n",
       "      <td>the unschooled wizard sun wolf and starhawk 12</td>\n",
       "    </tr>\n",
       "    <tr>\n",
       "      <th>1</th>\n",
       "      <td>6066819</td>\n",
       "      <td>Best Friends Forever</td>\n",
       "      <td>51184</td>\n",
       "      <td>https://www.goodreads.com/book/show/6066819-be...</td>\n",
       "      <td>https://s.gr-assets.com/assets/nophoto/book/11...</td>\n",
       "      <td>best friends forever</td>\n",
       "    </tr>\n",
       "    <tr>\n",
       "      <th>2</th>\n",
       "      <td>287141</td>\n",
       "      <td>The Aeneid for Boys and Girls</td>\n",
       "      <td>46</td>\n",
       "      <td>https://www.goodreads.com/book/show/287141.The...</td>\n",
       "      <td>https://s.gr-assets.com/assets/nophoto/book/11...</td>\n",
       "      <td>the aeneid for boys and girls</td>\n",
       "    </tr>\n",
       "    <tr>\n",
       "      <th>3</th>\n",
       "      <td>6066812</td>\n",
       "      <td>All's Fairy in Love and War (Avalon: Web of Ma...</td>\n",
       "      <td>98</td>\n",
       "      <td>https://www.goodreads.com/book/show/6066812-al...</td>\n",
       "      <td>https://images.gr-assets.com/books/1316637798m...</td>\n",
       "      <td>alls fairy in love and war avalon web of magic 8</td>\n",
       "    </tr>\n",
       "    <tr>\n",
       "      <th>4</th>\n",
       "      <td>287149</td>\n",
       "      <td>The Devil's Notebook</td>\n",
       "      <td>986</td>\n",
       "      <td>https://www.goodreads.com/book/show/287149.The...</td>\n",
       "      <td>https://images.gr-assets.com/books/1328768789m...</td>\n",
       "      <td>the devils notebook</td>\n",
       "    </tr>\n",
       "  </tbody>\n",
       "</table>\n",
       "</div>"
      ],
      "text/plain": [
       "   book_id                                              title  ratings  \\\n",
       "0  7327624  The Unschooled Wizard (Sun Wolf and Starhawk, ...      140   \n",
       "1  6066819                               Best Friends Forever    51184   \n",
       "2   287141                      The Aeneid for Boys and Girls       46   \n",
       "3  6066812  All's Fairy in Love and War (Avalon: Web of Ma...       98   \n",
       "4   287149                               The Devil's Notebook      986   \n",
       "\n",
       "                                                 url  \\\n",
       "0  https://www.goodreads.com/book/show/7327624-th...   \n",
       "1  https://www.goodreads.com/book/show/6066819-be...   \n",
       "2  https://www.goodreads.com/book/show/287141.The...   \n",
       "3  https://www.goodreads.com/book/show/6066812-al...   \n",
       "4  https://www.goodreads.com/book/show/287149.The...   \n",
       "\n",
       "                                         cover_image  \\\n",
       "0  https://images.gr-assets.com/books/1304100136m...   \n",
       "1  https://s.gr-assets.com/assets/nophoto/book/11...   \n",
       "2  https://s.gr-assets.com/assets/nophoto/book/11...   \n",
       "3  https://images.gr-assets.com/books/1316637798m...   \n",
       "4  https://images.gr-assets.com/books/1328768789m...   \n",
       "\n",
       "                                          mod_title  \n",
       "0    the unschooled wizard sun wolf and starhawk 12  \n",
       "1                              best friends forever  \n",
       "2                     the aeneid for boys and girls  \n",
       "3  alls fairy in love and war avalon web of magic 8  \n",
       "4                               the devils notebook  "
      ]
     },
     "execution_count": 3,
     "metadata": {},
     "output_type": "execute_result"
    }
   ],
   "source": [
    "#function to grab columns of interest to us\n",
    "def parse_fields(line):\n",
    "    data = json.loads(line)\n",
    "    return {\n",
    "        'book_id': data['book_id'],\n",
    "        'title': data['title_without_series'],\n",
    "        'ratings': data['ratings_count'],\n",
    "        'url': data['url'],\n",
    "        'cover_image': data['image_url']        \n",
    "    }\n",
    "\n",
    "#streams every line of .json file and appends to list if the book has > 15 ratings\n",
    "books_titles = []\n",
    "with gzip.open(\"goodreads_books.json.gz\") as f:\n",
    "    while True:\n",
    "        line = f.readline()\n",
    "        if not line:\n",
    "            break\n",
    "            \n",
    "        fields = parse_fields(line)\n",
    "        \n",
    "        try:\n",
    "            ratings = int(fields[\"ratings\"])\n",
    "        except ValueError:\n",
    "            continue\n",
    "            \n",
    "        if ratings > 15:\n",
    "            books_titles.append(fields)\n",
    "\n",
    "#minor data cleaning\n",
    "titles = pd.DataFrame.from_dict(books_titles)\n",
    "titles['ratings'] = pd.to_numeric(titles['ratings'])\n",
    "titles['mod_title'] = (\n",
    "    titles['title'].str.replace('[^a-zA-Z0-9 ]', '', regex=True)\n",
    "    .str.lower()\n",
    "    .str.replace('\\s+', ' ', regex=True)\n",
    ")\n",
    "\n",
    "#removes any entries whose mod_titles are blank\n",
    "titles = titles[titles['mod_title'].str.len() > 0]\n",
    "titles.to_json('books_titles.json')\n",
    "titles.head()"
   ]
  },
  {
   "cell_type": "markdown",
   "id": "0a09451c-eb07-4280-a561-7f72da7afbbc",
   "metadata": {},
   "source": [
    "# Functions"
   ]
  },
  {
   "cell_type": "code",
   "execution_count": 4,
   "id": "435cdd8e-25a2-430a-aa06-7caea134ca0c",
   "metadata": {
    "execution": {
     "iopub.execute_input": "2022-04-06T01:35:09.317046Z",
     "iopub.status.busy": "2022-04-06T01:35:09.317046Z",
     "iopub.status.idle": "2022-04-06T01:35:15.650362Z",
     "shell.execute_reply": "2022-04-06T01:35:15.650362Z",
     "shell.execute_reply.started": "2022-04-06T01:35:09.317046Z"
    },
    "tags": []
   },
   "outputs": [],
   "source": [
    "#instantiate vectorizer to create TF matrix and calculate inverse document frequency\n",
    "vectorizer = TfidfVectorizer()\n",
    "tfidf = vectorizer.fit_transform(titles['mod_title'])\n",
    "\n",
    "#function to return query results\n",
    "def search(query, vectorizer):\n",
    "    processed = re.sub('[^a-zA-Z0-9 ]', '', query.lower())\n",
    "    query_vec = vectorizer.transform([processed])\n",
    "    similarity = cosine_similarity(query_vec, tfidf).flatten()\n",
    "    indices = np.argpartition(similarity, -10)[-10:]\n",
    "    results = (\n",
    "        titles.iloc[indices]\n",
    "        .sort_values('ratings', ascending=False)\n",
    "    )\n",
    "    return results.head(5).style.format({'url': make_clickable, 'cover_image': show_image})\n",
    "\n",
    "#turns URL into clickable link\n",
    "def make_clickable(val):\n",
    "    return f'<a target=\"_blank\" href=\"{val}\">Goodreads</a>'\n",
    "\n",
    "#shows image preview of book cover\n",
    "def show_image(val):\n",
    "    return f'<img src=\"{val}\" width=50></img>'    "
   ]
  },
  {
   "cell_type": "markdown",
   "id": "04399b22-6cf1-4342-852f-ff2a9be79a6f",
   "metadata": {},
   "source": [
    "# Query"
   ]
  },
  {
   "cell_type": "code",
   "execution_count": 5,
   "id": "a9844204-cc9a-48d9-ba23-e2f962cdf115",
   "metadata": {
    "execution": {
     "iopub.execute_input": "2022-04-06T01:35:15.651360Z",
     "iopub.status.busy": "2022-04-06T01:35:15.651360Z",
     "iopub.status.idle": "2022-04-06T01:35:15.886639Z",
     "shell.execute_reply": "2022-04-06T01:35:15.886639Z",
     "shell.execute_reply.started": "2022-04-06T01:35:15.651360Z"
    },
    "tags": []
   },
   "outputs": [
    {
     "data": {
      "text/html": [
       "<style type=\"text/css\">\n",
       "</style>\n",
       "<table id=\"T_37d1e\">\n",
       "  <thead>\n",
       "    <tr>\n",
       "      <th class=\"blank level0\" >&nbsp;</th>\n",
       "      <th id=\"T_37d1e_level0_col0\" class=\"col_heading level0 col0\" >book_id</th>\n",
       "      <th id=\"T_37d1e_level0_col1\" class=\"col_heading level0 col1\" >title</th>\n",
       "      <th id=\"T_37d1e_level0_col2\" class=\"col_heading level0 col2\" >ratings</th>\n",
       "      <th id=\"T_37d1e_level0_col3\" class=\"col_heading level0 col3\" >url</th>\n",
       "      <th id=\"T_37d1e_level0_col4\" class=\"col_heading level0 col4\" >cover_image</th>\n",
       "      <th id=\"T_37d1e_level0_col5\" class=\"col_heading level0 col5\" >mod_title</th>\n",
       "    </tr>\n",
       "  </thead>\n",
       "  <tbody>\n",
       "    <tr>\n",
       "      <th id=\"T_37d1e_level0_row0\" class=\"row_heading level0 row0\" >243279</th>\n",
       "      <td id=\"T_37d1e_row0_col0\" class=\"data row0 col0\" >4930396</td>\n",
       "      <td id=\"T_37d1e_row0_col1\" class=\"data row0 col1\" >A Drifting Life</td>\n",
       "      <td id=\"T_37d1e_row0_col2\" class=\"data row0 col2\" >2290</td>\n",
       "      <td id=\"T_37d1e_row0_col3\" class=\"data row0 col3\" ><a target=\"_blank\" href=\"https://www.goodreads.com/book/show/4930396-a-drifting-life\">Goodreads</a></td>\n",
       "      <td id=\"T_37d1e_row0_col4\" class=\"data row0 col4\" ><img src=\"https://images.gr-assets.com/books/1327878934m/4930396.jpg\" width=50></img></td>\n",
       "      <td id=\"T_37d1e_row0_col5\" class=\"data row0 col5\" >a drifting life</td>\n",
       "    </tr>\n",
       "    <tr>\n",
       "      <th id=\"T_37d1e_level0_row1\" class=\"row_heading level0 row1\" >739016</th>\n",
       "      <td id=\"T_37d1e_row1_col0\" class=\"data row1 col0\" >22065063</td>\n",
       "      <td id=\"T_37d1e_row1_col1\" class=\"data row1 col1\" >Drifting into Darkness (Drifting, #1)</td>\n",
       "      <td id=\"T_37d1e_row1_col2\" class=\"data row1 col2\" >644</td>\n",
       "      <td id=\"T_37d1e_row1_col3\" class=\"data row1 col3\" ><a target=\"_blank\" href=\"https://www.goodreads.com/book/show/22065063-drifting-into-darkness\">Goodreads</a></td>\n",
       "      <td id=\"T_37d1e_row1_col4\" class=\"data row1 col4\" ><img src=\"https://s.gr-assets.com/assets/nophoto/book/111x148-bcc042a9c91a29c1d680899eff700a03.png\" width=50></img></td>\n",
       "      <td id=\"T_37d1e_row1_col5\" class=\"data row1 col5\" >drifting into darkness drifting 1</td>\n",
       "    </tr>\n",
       "    <tr>\n",
       "      <th id=\"T_37d1e_level0_row2\" class=\"row_heading level0 row2\" >831963</th>\n",
       "      <td id=\"T_37d1e_row2_col0\" class=\"data row2 col0\" >11909375</td>\n",
       "      <td id=\"T_37d1e_row2_col1\" class=\"data row2 col1\" >Drifting House</td>\n",
       "      <td id=\"T_37d1e_row2_col2\" class=\"data row2 col2\" >555</td>\n",
       "      <td id=\"T_37d1e_row2_col3\" class=\"data row2 col3\" ><a target=\"_blank\" href=\"https://www.goodreads.com/book/show/11909375-drifting-house\">Goodreads</a></td>\n",
       "      <td id=\"T_37d1e_row2_col4\" class=\"data row2 col4\" ><img src=\"https://images.gr-assets.com/books/1327937623m/11909375.jpg\" width=50></img></td>\n",
       "      <td id=\"T_37d1e_row2_col5\" class=\"data row2 col5\" >drifting house</td>\n",
       "    </tr>\n",
       "    <tr>\n",
       "      <th id=\"T_37d1e_level0_row3\" class=\"row_heading level0 row3\" >9435</th>\n",
       "      <td id=\"T_37d1e_row3_col0\" class=\"data row3 col0\" >1404610</td>\n",
       "      <td id=\"T_37d1e_row3_col1\" class=\"data row3 col1\" >Drifting</td>\n",
       "      <td id=\"T_37d1e_row3_col2\" class=\"data row3 col2\" >192</td>\n",
       "      <td id=\"T_37d1e_row3_col3\" class=\"data row3 col3\" ><a target=\"_blank\" href=\"https://www.goodreads.com/book/show/1404610.Drifting\">Goodreads</a></td>\n",
       "      <td id=\"T_37d1e_row3_col4\" class=\"data row3 col4\" ><img src=\"https://images.gr-assets.com/books/1309202392m/1404610.jpg\" width=50></img></td>\n",
       "      <td id=\"T_37d1e_row3_col5\" class=\"data row3 col5\" >drifting</td>\n",
       "    </tr>\n",
       "    <tr>\n",
       "      <th id=\"T_37d1e_level0_row4\" class=\"row_heading level0 row4\" >726368</th>\n",
       "      <td id=\"T_37d1e_row4_col0\" class=\"data row4 col0\" >5322614</td>\n",
       "      <td id=\"T_37d1e_row4_col1\" class=\"data row4 col1\" >Drifting South</td>\n",
       "      <td id=\"T_37d1e_row4_col2\" class=\"data row4 col2\" >177</td>\n",
       "      <td id=\"T_37d1e_row4_col3\" class=\"data row4 col3\" ><a target=\"_blank\" href=\"https://www.goodreads.com/book/show/5322614-drifting-south\">Goodreads</a></td>\n",
       "      <td id=\"T_37d1e_row4_col4\" class=\"data row4 col4\" ><img src=\"https://s.gr-assets.com/assets/nophoto/book/111x148-bcc042a9c91a29c1d680899eff700a03.png\" width=50></img></td>\n",
       "      <td id=\"T_37d1e_row4_col5\" class=\"data row4 col5\" >drifting south</td>\n",
       "    </tr>\n",
       "  </tbody>\n",
       "</table>\n"
      ],
      "text/plain": [
       "<pandas.io.formats.style.Styler at 0x23cd4cc27a0>"
      ]
     },
     "execution_count": 5,
     "metadata": {},
     "output_type": "execute_result"
    }
   ],
   "source": [
    "#search for book, and add book_id to liked_books\n",
    "search('Drifting House', vectorizer)"
   ]
  },
  {
   "cell_type": "code",
   "execution_count": 6,
   "id": "7fa795bc-4120-4b12-878c-ae41e3323a3e",
   "metadata": {
    "execution": {
     "iopub.execute_input": "2022-04-06T01:35:15.887637Z",
     "iopub.status.busy": "2022-04-06T01:35:15.887637Z",
     "iopub.status.idle": "2022-04-06T01:35:15.902600Z",
     "shell.execute_reply": "2022-04-06T01:35:15.902600Z",
     "shell.execute_reply.started": "2022-04-06T01:35:15.887637Z"
    },
    "tags": []
   },
   "outputs": [],
   "source": [
    "#list of book_ids to use in the recommendations notebook\n",
    "liked_books = ['434903', '11047557', '29983711', '12073240', '11297', '12058235', '7117831', '11909375']"
   ]
  }
 ],
 "metadata": {
  "kernelspec": {
   "display_name": "Python 3 (ipykernel)",
   "language": "python",
   "name": "python3"
  },
  "language_info": {
   "codemirror_mode": {
    "name": "ipython",
    "version": 3
   },
   "file_extension": ".py",
   "mimetype": "text/x-python",
   "name": "python",
   "nbconvert_exporter": "python",
   "pygments_lexer": "ipython3",
   "version": "3.10.2"
  }
 },
 "nbformat": 4,
 "nbformat_minor": 5
}
